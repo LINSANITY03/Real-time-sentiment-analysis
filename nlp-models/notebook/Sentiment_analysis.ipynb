{
  "cells": [
    {
      "cell_type": "code",
      "execution_count": null,
      "metadata": {
        "colab": {
          "base_uri": "https://localhost:8080/"
        },
        "id": "kDDsGKPqAZAy",
        "outputId": "aab19156-2a46-4e35-c36e-fb9e2fbda37d"
      },
      "outputs": [
        {
          "name": "stderr",
          "output_type": "stream",
          "text": [
            "WARNING:tensorflow:Please fix your imports. Module tensorflow.python.training.tracking.data_structures has been moved to tensorflow.python.trackable.data_structures. The old module will be deleted in version 2.11.\n",
            "WARNING:tensorflow:From /usr/local/lib/python3.10/dist-packages/tensorflow/python/autograph/pyct/static_analysis/liveness.py:83: Analyzer.lamba_check (from tensorflow.python.autograph.pyct.static_analysis.liveness) is deprecated and will be removed after 2023-09-23.\n",
            "Instructions for updating:\n",
            "Lambda fuctions will be no more assumed to be used in the statement where they are used, or at least in the same block. https://github.com/tensorflow/tensorflow/issues/56089\n"
          ]
        },
        {
          "name": "stdout",
          "output_type": "stream",
          "text": [
            "Model: \"model\"\n",
            "__________________________________________________________________________________________________\n",
            " Layer (type)                   Output Shape         Param #     Connected to                     \n",
            "==================================================================================================\n",
            " input_1 (InputLayer)           [(None,)]            0           []                               \n",
            "                                                                                                  \n",
            " keras_layer (KerasLayer)       {'input_word_ids':   0           ['input_1[0][0]']                \n",
            "                                (None, 128),                                                      \n",
            "                                 'input_mask': (Non                                               \n",
            "                                e, 128),                                                          \n",
            "                                 'input_type_ids':                                                \n",
            "                                (None, 128)}                                                      \n",
            "                                                                                                  \n",
            " keras_layer_1 (KerasLayer)     {'encoder_outputs':  109482241   ['keras_layer[0][0]',            \n",
            "                                 [(None, 128, 768),               'keras_layer[0][1]',            \n",
            "                                 (None, 128, 768),                'keras_layer[0][2]']            \n",
            "                                 (None, 128, 768),                                                \n",
            "                                 (None, 128, 768),                                                \n",
            "                                 (None, 128, 768),                                                \n",
            "                                 (None, 128, 768),                                                \n",
            "                                 (None, 128, 768),                                                \n",
            "                                 (None, 128, 768),                                                \n",
            "                                 (None, 128, 768),                                                \n",
            "                                 (None, 128, 768),                                                \n",
            "                                 (None, 128, 768),                                                \n",
            "                                 (None, 128, 768)],                                               \n",
            "                                 'default': (None,                                                \n",
            "                                768),                                                             \n",
            "                                 'sequence_output':                                               \n",
            "                                 (None, 128, 768),                                                \n",
            "                                 'pooled_output': (                                               \n",
            "                                None, 768)}                                                       \n",
            "                                                                                                  \n",
            " classifier (Dense)             (None, 1)            769         ['keras_layer_1[0][13]']         \n",
            "                                                                                                  \n",
            "==================================================================================================\n",
            "Total params: 109,483,010\n",
            "Trainable params: 769\n",
            "Non-trainable params: 109,482,241\n",
            "__________________________________________________________________________________________________\n"
          ]
        }
      ],
      "source": [
        "import tensorflow as tf\n",
        "import tensorflow_hub as hub\n",
        "import tensorflow_text as text  # For the BERT tokenizer\n",
        "\n",
        "# Load the BERT preprocessing and encoder layers from TensorFlow Hub\n",
        "bert_preprocess = hub.KerasLayer(\"https://tfhub.dev/tensorflow/bert_en_uncased_preprocess/3\")\n",
        "bert_encoder = hub.KerasLayer(\n",
        "    \"https://tfhub.dev/tensorflow/bert_en_uncased_L-12_H-768_A-12/4\")\n",
        "\n",
        "def build_model():\n",
        "    # Input layer for text\n",
        "    text_input = tf.keras.layers.Input(shape=(), dtype=tf.string)\n",
        "\n",
        "    # Preprocess the input text using the BERT preprocessing layer\n",
        "    preprocessed_text = bert_preprocess(text_input)\n",
        "\n",
        "    # Pass the preprocessed text to the BERT encoder\n",
        "    encoder_outputs = bert_encoder(preprocessed_text)\n",
        "\n",
        "    # Use the pooled_output (represents the [CLS] token's representation) for classification\n",
        "    pooled_output = encoder_outputs['pooled_output']\n",
        "\n",
        "    # Add a Dense layer for binary classification (positive/negative sentiment)\n",
        "    output = tf.keras.layers.Dense(1, activation='sigmoid', name='classifier')(pooled_output)\n",
        "\n",
        "    # Create the Keras model\n",
        "    model = tf.keras.Model(inputs=[text_input], outputs=[output])\n",
        "\n",
        "    return model\n",
        "\n",
        "# Build and compile the model\n",
        "model = build_model()\n",
        "model.compile(optimizer='adam', loss='binary_crossentropy', metrics=['accuracy'])\n",
        "\n",
        "# Check the model structure\n",
        "model.summary()\n"
      ]
    },
    {
      "cell_type": "code",
      "execution_count": null,
      "metadata": {},
      "outputs": [],
      "source": [
        "model.save(\"../saved-model/sent-model1.h5\") # saving the model"
      ]
    },
    {
      "cell_type": "code",
      "execution_count": null,
      "metadata": {
        "id": "ww6sdn3gQv67"
      },
      "outputs": [],
      "source": [
        "# Ensure the model is in evaluation mode\n",
        "model.trainable = False"
      ]
    },
    {
      "cell_type": "code",
      "execution_count": null,
      "metadata": {
        "colab": {
          "base_uri": "https://localhost:8080/"
        },
        "id": "BFAWmTP-HGko",
        "outputId": "18b504f2-833d-4754-dae0-2e8b85112d94"
      },
      "outputs": [
        {
          "name": "stderr",
          "output_type": "stream",
          "text": [
            "/usr/local/lib/python3.10/dist-packages/keras/engine/training_v1.py:2357: UserWarning: `Model.state_updates` will be removed in a future version. This property should not be used in TensorFlow 2.0, as `updates` are applied automatically.\n",
            "  updates=self.state_updates,\n"
          ]
        },
        {
          "name": "stdout",
          "output_type": "stream",
          "text": [
            "[[0.42563742]]\n"
          ]
        }
      ],
      "source": [
        "# Example texts for prediction\n",
        "texts = [\"I recently stayed at a hotel that was highly disappointing. The room was dirty, and the staff were unhelpful and rude. Despite requesting multiple times, the issues were never addressed. The amenities were outdated, and the overall experience was far below what I expected. I would not recommend this place to anyone and will avoid it in the future\"]\n",
        "# Create a TensorFlow dataset from the list of texts\n",
        "dataset = tf.data.Dataset.from_tensor_slices(texts)\n",
        "dataset = dataset.batch(1)  # Adjust the batch size as needed\n",
        "\n",
        "# Perform prediction using the dataset\n",
        "predictions = model.predict(dataset, steps=len(texts))  # Specify steps based on the number of texts\n",
        "\n",
        "# Print the predictions\n",
        "print(predictions)"
      ]
    }
  ],
  "metadata": {
    "colab": {
      "provenance": []
    },
    "kernelspec": {
      "display_name": "Python 3",
      "name": "python3"
    },
    "language_info": {
      "name": "python",
      "version": "3.10.0"
    }
  },
  "nbformat": 4,
  "nbformat_minor": 0
}
